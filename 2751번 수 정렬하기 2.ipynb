{
 "cells": [
  {
   "cell_type": "code",
   "execution_count": 1,
   "metadata": {},
   "outputs": [],
   "source": [
    "import sys\n",
    "\n",
    "N = int(input())\n",
    "A = []\n",
    "for i in range(N):\n",
    "    A.append(int(sys.stdin.readline()))\n",
    "A.sort()\n",
    "for j in A:\n",
    "    print(j)\n"
   ]
  }
 ],
 "metadata": {
  "kernelspec": {
   "display_name": "base",
   "language": "python",
   "name": "python3"
  },
  "language_info": {
   "codemirror_mode": {
    "name": "ipython",
    "version": 3
   },
   "file_extension": ".py",
   "mimetype": "text/x-python",
   "name": "python",
   "nbconvert_exporter": "python",
   "pygments_lexer": "ipython3",
   "version": "3.9.7"
  },
  "orig_nbformat": 4,
  "vscode": {
   "interpreter": {
    "hash": "09c962df69b3a791a99d77972432291ba0600d0ce12be3b2264194eab0977144"
   }
  }
 },
 "nbformat": 4,
 "nbformat_minor": 2
}
