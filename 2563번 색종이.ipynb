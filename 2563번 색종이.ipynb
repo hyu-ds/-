{
 "cells": [
  {
   "cell_type": "code",
   "execution_count": 11,
   "metadata": {},
   "outputs": [
    {
     "ename": "IndexError",
     "evalue": "tuple index out of range",
     "output_type": "error",
     "traceback": [
      "\u001b[1;31m---------------------------------------------------------------------------\u001b[0m",
      "\u001b[1;31mIndexError\u001b[0m                                Traceback (most recent call last)",
      "\u001b[1;32mc:\\Users\\junsa\\한양대학교 이준상\\한양대학교 이준상\\1-겨울방학\\백준 풀이\\2563번 색종이.ipynb Cell 1\u001b[0m in \u001b[0;36m<cell line: 10>\u001b[1;34m()\u001b[0m\n\u001b[0;32m      <a href='vscode-notebook-cell:/c%3A/Users/junsa/%ED%95%9C%EC%96%91%EB%8C%80%ED%95%99%EA%B5%90%20%EC%9D%B4%EC%A4%80%EC%83%81/%ED%95%9C%EC%96%91%EB%8C%80%ED%95%99%EA%B5%90%20%EC%9D%B4%EC%A4%80%EC%83%81/1-%EA%B2%A8%EC%9A%B8%EB%B0%A9%ED%95%99/%EB%B0%B1%EC%A4%80%20%ED%92%80%EC%9D%B4/2563%EB%B2%88%20%EC%83%89%EC%A2%85%EC%9D%B4.ipynb#W0sZmlsZQ%3D%3D?line=8'>9</a>\u001b[0m overlap \u001b[39m=\u001b[39m \u001b[39m0\u001b[39m\n\u001b[0;32m     <a href='vscode-notebook-cell:/c%3A/Users/junsa/%ED%95%9C%EC%96%91%EB%8C%80%ED%95%99%EA%B5%90%20%EC%9D%B4%EC%A4%80%EC%83%81/%ED%95%9C%EC%96%91%EB%8C%80%ED%95%99%EA%B5%90%20%EC%9D%B4%EC%A4%80%EC%83%81/1-%EA%B2%A8%EC%9A%B8%EB%B0%A9%ED%95%99/%EB%B0%B1%EC%A4%80%20%ED%92%80%EC%9D%B4/2563%EB%B2%88%20%EC%83%89%EC%A2%85%EC%9D%B4.ipynb#W0sZmlsZQ%3D%3D?line=9'>10</a>\u001b[0m \u001b[39mfor\u001b[39;00m j \u001b[39min\u001b[39;00m \u001b[39mrange\u001b[39m(\u001b[39mlen\u001b[39m(comb_list)):\n\u001b[1;32m---> <a href='vscode-notebook-cell:/c%3A/Users/junsa/%ED%95%9C%EC%96%91%EB%8C%80%ED%95%99%EA%B5%90%20%EC%9D%B4%EC%A4%80%EC%83%81/%ED%95%9C%EC%96%91%EB%8C%80%ED%95%99%EA%B5%90%20%EC%9D%B4%EC%A4%80%EC%83%81/1-%EA%B2%A8%EC%9A%B8%EB%B0%A9%ED%95%99/%EB%B0%B1%EC%A4%80%20%ED%92%80%EC%9D%B4/2563%EB%B2%88%20%EC%83%89%EC%A2%85%EC%9D%B4.ipynb#W0sZmlsZQ%3D%3D?line=10'>11</a>\u001b[0m     \u001b[39mif\u001b[39;00m comb_list[j][\u001b[39m2\u001b[39;49m][\u001b[39m1\u001b[39m] \u001b[39m>\u001b[39m comb_list[j][\u001b[39m1\u001b[39m][\u001b[39m1\u001b[39m] \u001b[39m-\u001b[39m \u001b[39m10\u001b[39m \u001b[39mand\u001b[39;00m comb_list[j][\u001b[39m2\u001b[39m][\u001b[39m1\u001b[39m] \u001b[39m<\u001b[39m comb_list[j][\u001b[39m1\u001b[39m][\u001b[39m1\u001b[39m] \u001b[39m+\u001b[39m \u001b[39m10\u001b[39m:\n\u001b[0;32m     <a href='vscode-notebook-cell:/c%3A/Users/junsa/%ED%95%9C%EC%96%91%EB%8C%80%ED%95%99%EA%B5%90%20%EC%9D%B4%EC%A4%80%EC%83%81/%ED%95%9C%EC%96%91%EB%8C%80%ED%95%99%EA%B5%90%20%EC%9D%B4%EC%A4%80%EC%83%81/1-%EA%B2%A8%EC%9A%B8%EB%B0%A9%ED%95%99/%EB%B0%B1%EC%A4%80%20%ED%92%80%EC%9D%B4/2563%EB%B2%88%20%EC%83%89%EC%A2%85%EC%9D%B4.ipynb#W0sZmlsZQ%3D%3D?line=11'>12</a>\u001b[0m         \u001b[39mif\u001b[39;00m comb_list[j][\u001b[39m2\u001b[39m][\u001b[39m2\u001b[39m] \u001b[39m>\u001b[39m comb_list[j][\u001b[39m1\u001b[39m][\u001b[39m2\u001b[39m] \u001b[39m-\u001b[39m \u001b[39m10\u001b[39m \u001b[39mand\u001b[39;00m comb_list[j][\u001b[39m2\u001b[39m][\u001b[39m2\u001b[39m] \u001b[39m<\u001b[39m comb_list[j][\u001b[39m1\u001b[39m][\u001b[39m2\u001b[39m] \u001b[39m+\u001b[39m \u001b[39m10\u001b[39m:\n\u001b[0;32m     <a href='vscode-notebook-cell:/c%3A/Users/junsa/%ED%95%9C%EC%96%91%EB%8C%80%ED%95%99%EA%B5%90%20%EC%9D%B4%EC%A4%80%EC%83%81/%ED%95%9C%EC%96%91%EB%8C%80%ED%95%99%EA%B5%90%20%EC%9D%B4%EC%A4%80%EC%83%81/1-%EA%B2%A8%EC%9A%B8%EB%B0%A9%ED%95%99/%EB%B0%B1%EC%A4%80%20%ED%92%80%EC%9D%B4/2563%EB%B2%88%20%EC%83%89%EC%A2%85%EC%9D%B4.ipynb#W0sZmlsZQ%3D%3D?line=12'>13</a>\u001b[0m             \u001b[39mif\u001b[39;00m comb_list[j][\u001b[39m2\u001b[39m][\u001b[39m1\u001b[39m] \u001b[39m>\u001b[39m comb_list[j][\u001b[39m1\u001b[39m][\u001b[39m1\u001b[39m] \u001b[39mand\u001b[39;00m comb_list[j][\u001b[39m2\u001b[39m][\u001b[39m2\u001b[39m] \u001b[39m>\u001b[39m comb_list[j][\u001b[39m1\u001b[39m][\u001b[39m2\u001b[39m]:\n",
      "\u001b[1;31mIndexError\u001b[0m: tuple index out of range"
     ]
    }
   ],
   "source": [
    "import itertools\n",
    "num = int(input())\n",
    "A = []\n",
    "for i in range(num):\n",
    "    a = list(map(int, input().split()))\n",
    "    A.append(a)\n",
    "comb = itertools.combinations(A,2)\n",
    "comb_list = list(comb)\n",
    "overlap = 0\n",
    "for j in range(len(comb_list)):\n",
    "    if comb_list[j][2][1] > comb_list[j][1][1] - 10 and comb_list[j][2][1] < comb_list[j][1][1] + 10:\n",
    "        if comb_list[j][2][2] > comb_list[j][1][2] - 10 and comb_list[j][2][2] < comb_list[j][1][2] + 10:\n",
    "            if comb_list[j][2][1] > comb_list[j][1][1] and comb_list[j][2][2] > comb_list[j][1][2]:\n",
    "                overlap = overlap + (comb_list[j][1][1] + 10 - comb_list[j][2][1]) * (comb_list[j][1][2] + 10 - comb_list[j][2][2])\n",
    "            if comb_list[j][2][1] > comb_list[j][1][1] and comb_list[j][2][2] < comb_list[j][1][2]:\n",
    "                overlap = overlap + (comb_list[j][2][1] + 10 - comb_list[j][1][1]) * (comb_list[j][2][2] + 10 - comb_list[j][1][2])\n",
    "            if comb_list[j][2][1] < comb_list[j][1][1] and comb_list[j][2][2] > comb_list[j][1][2]:\n",
    "                overlap = overlap + (comb_list[j][2][1] + 10 - comb_list[j][1][1]) * (comb_list[j][1][2] + 10 - comb_list[j][2][2])\n",
    "            if comb_list[j][2][1] < comb_list[j][1][1] and comb_list[j][2][2] < comb_list[j][1][2]:\n",
    "                overlap = overlap + (comb_list[j][2][1] + 10 - comb_list[j][1][1]) * (comb_list[j][2][2] + 10 - comb_list[j][1][2])\n",
    "not_overlap = 100 * num \n",
    "print(not_overlap - overlap)\n",
    "\n",
    "\n",
    "\n"
   ]
  },
  {
   "cell_type": "code",
   "execution_count": 3,
   "metadata": {},
   "outputs": [
    {
     "ename": "TypeError",
     "evalue": "'itertools.combinations' object is not subscriptable",
     "output_type": "error",
     "traceback": [
      "\u001b[1;31m---------------------------------------------------------------------------\u001b[0m",
      "\u001b[1;31mTypeError\u001b[0m                                 Traceback (most recent call last)",
      "\u001b[1;32mc:\\Users\\junsa\\한양대학교 이준상\\한양대학교 이준상\\1-겨울방학\\백준 풀이\\2563번 색종이.ipynb Cell 2\u001b[0m in \u001b[0;36m<cell line: 1>\u001b[1;34m()\u001b[0m\n\u001b[1;32m----> <a href='vscode-notebook-cell:/c%3A/Users/junsa/%ED%95%9C%EC%96%91%EB%8C%80%ED%95%99%EA%B5%90%20%EC%9D%B4%EC%A4%80%EC%83%81/%ED%95%9C%EC%96%91%EB%8C%80%ED%95%99%EA%B5%90%20%EC%9D%B4%EC%A4%80%EC%83%81/1-%EA%B2%A8%EC%9A%B8%EB%B0%A9%ED%95%99/%EB%B0%B1%EC%A4%80%20%ED%92%80%EC%9D%B4/2563%EB%B2%88%20%EC%83%89%EC%A2%85%EC%9D%B4.ipynb#W3sZmlsZQ%3D%3D?line=0'>1</a>\u001b[0m comb[\u001b[39m1\u001b[39;49m]\n",
      "\u001b[1;31mTypeError\u001b[0m: 'itertools.combinations' object is not subscriptable"
     ]
    }
   ],
   "source": []
  },
  {
   "cell_type": "code",
   "execution_count": null,
   "metadata": {},
   "outputs": [],
   "source": [
    "not_overlap = 100 * num "
   ]
  },
  {
   "cell_type": "code",
   "execution_count": 4,
   "metadata": {},
   "outputs": [
    {
     "data": {
      "text/plain": [
       "[[3, 7], [15, 7], [5, 2]]"
      ]
     },
     "execution_count": 4,
     "metadata": {},
     "output_type": "execute_result"
    }
   ],
   "source": [
    "A"
   ]
  }
 ],
 "metadata": {
  "kernelspec": {
   "display_name": "Python 3",
   "language": "python",
   "name": "python3"
  },
  "language_info": {
   "codemirror_mode": {
    "name": "ipython",
    "version": 3
   },
   "file_extension": ".py",
   "mimetype": "text/x-python",
   "name": "python",
   "nbconvert_exporter": "python",
   "pygments_lexer": "ipython3",
   "version": "3.10.2"
  },
  "orig_nbformat": 4,
  "vscode": {
   "interpreter": {
    "hash": "6012e4145309480b7469bc34b19683594d2efa0f02e1a1ca2e35b3f6a1ba1fb9"
   }
  }
 },
 "nbformat": 4,
 "nbformat_minor": 2
}
