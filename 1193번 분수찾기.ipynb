{
 "cells": [
  {
   "cell_type": "code",
   "execution_count": 34,
   "metadata": {},
   "outputs": [
    {
     "name": "stdout",
     "output_type": "stream",
     "text": [
      "1/3\n"
     ]
    }
   ],
   "source": [
    "import sys\n",
    "num = int(input())\n",
    "if num == 1 :\n",
    "    print(\"1/1\")\n",
    "    sys.exit()\n",
    "n1 = 1\n",
    "n2 = 1\n",
    "n3 = 1\n",
    "\n",
    "while num > n2:\n",
    "    n1 = n1 + 1\n",
    "    n2 = n2 + n1\n",
    "    n3 += 1\n",
    "if n3 % 2 == 0:    \n",
    "    bj = num - (n2 -  n1)\n",
    "    bm = n3 + 1 - bj\n",
    "if n3 % 2 == 1:\n",
    "    bm = num - (n2 -  n1)\n",
    "    bj = n3 + 1 - bm\n",
    "bj = str(bj)\n",
    "bm = str(bm)    \n",
    "print(bj+'/'+bm)\n",
    "\n"
   ]
  }
 ],
 "metadata": {
  "kernelspec": {
   "display_name": "Python 3",
   "language": "python",
   "name": "python3"
  },
  "language_info": {
   "codemirror_mode": {
    "name": "ipython",
    "version": 3
   },
   "file_extension": ".py",
   "mimetype": "text/x-python",
   "name": "python",
   "nbconvert_exporter": "python",
   "pygments_lexer": "ipython3",
   "version": "3.10.2 (tags/v3.10.2:a58ebcc, Jan 17 2022, 14:12:15) [MSC v.1929 64 bit (AMD64)]"
  },
  "orig_nbformat": 4,
  "vscode": {
   "interpreter": {
    "hash": "6012e4145309480b7469bc34b19683594d2efa0f02e1a1ca2e35b3f6a1ba1fb9"
   }
  }
 },
 "nbformat": 4,
 "nbformat_minor": 2
}
