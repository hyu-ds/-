{
 "cells": [
  {
   "cell_type": "code",
   "execution_count": null,
   "metadata": {},
   "outputs": [],
   "source": [
    "import sys\n",
    "A, B, V = input().split()\n",
    "A = int(A)\n",
    "B = int(B)\n",
    "V = int(V)\n",
    "n = (V-A)/(A-B)\n",
    "if n % 1 == 0:\n",
    "    print(int(n)+1)\n",
    "    sys.exit()\n",
    "print(int(n)+2)\n"
   ]
  }
 ],
 "metadata": {
  "kernelspec": {
   "display_name": "Python 3",
   "language": "python",
   "name": "python3"
  },
  "language_info": {
   "name": "python",
   "version": "3.10.2 (tags/v3.10.2:a58ebcc, Jan 17 2022, 14:12:15) [MSC v.1929 64 bit (AMD64)]"
  },
  "orig_nbformat": 4,
  "vscode": {
   "interpreter": {
    "hash": "6012e4145309480b7469bc34b19683594d2efa0f02e1a1ca2e35b3f6a1ba1fb9"
   }
  }
 },
 "nbformat": 4,
 "nbformat_minor": 2
}
