{
 "cells": [
  {
   "cell_type": "code",
   "execution_count": 30,
   "metadata": {},
   "outputs": [
    {
     "data": {
      "text/plain": [
       "2"
      ]
     },
     "execution_count": 30,
     "metadata": {},
     "output_type": "execute_result"
    }
   ],
   "source": [
    "def until5(sugar):\n",
    "    sugar_bag = 0\n",
    "    while sugar % 5 != 0 and sugar >= 0:\n",
    "        sugar -= 3\n",
    "        sugar_bag += 1\n",
    "    if sugar % 5 == 0: \n",
    "        sugar_bag = sugar_bag + sugar // 5\n",
    "    else:\n",
    "        sugar_bag = -1\n",
    "    return int(sugar_bag)\n",
    "a = int(input())\n",
    "print(until5(a))\n",
    "\n",
    "\n",
    "# 실패...... 왜그런지 모르겠어;;;;;"
   ]
  }
 ],
 "metadata": {
  "kernelspec": {
   "display_name": "Python 3",
   "language": "python",
   "name": "python3"
  },
  "language_info": {
   "codemirror_mode": {
    "name": "ipython",
    "version": 3
   },
   "file_extension": ".py",
   "mimetype": "text/x-python",
   "name": "python",
   "nbconvert_exporter": "python",
   "pygments_lexer": "ipython3",
   "version": "3.10.2 (tags/v3.10.2:a58ebcc, Jan 17 2022, 14:12:15) [MSC v.1929 64 bit (AMD64)]"
  },
  "orig_nbformat": 4,
  "vscode": {
   "interpreter": {
    "hash": "6012e4145309480b7469bc34b19683594d2efa0f02e1a1ca2e35b3f6a1ba1fb9"
   }
  }
 },
 "nbformat": 4,
 "nbformat_minor": 2
}
