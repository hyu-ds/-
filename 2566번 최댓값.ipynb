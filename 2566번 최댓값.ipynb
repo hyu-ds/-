{
 "cells": [
  {
   "cell_type": "code",
   "execution_count": 5,
   "metadata": {},
   "outputs": [
    {
     "data": {
      "text/plain": [
       "9"
      ]
     },
     "execution_count": 5,
     "metadata": {},
     "output_type": "execute_result"
    }
   ],
   "source": [
    "A = []\n",
    "B = []\n",
    "for i in range(9):\n",
    "    A.append(list(map(int, input().split())))\n",
    "# 시간복잡도 2n\n",
    "for i in range(9):\n",
    "    B.append(max(A[i]))\n",
    "print(max(B))\n",
    "B_max = max(B) \n",
    "list.index(B_max)\n"
   ]
  },
  {
   "cell_type": "code",
   "execution_count": 9,
   "metadata": {},
   "outputs": [
    {
     "ename": "TypeError",
     "evalue": "descriptor 'index' for 'list' objects doesn't apply to a 'int' object",
     "output_type": "error",
     "traceback": [
      "\u001b[1;31m---------------------------------------------------------------------------\u001b[0m",
      "\u001b[1;31mTypeError\u001b[0m                                 Traceback (most recent call last)",
      "\u001b[1;32mc:\\Users\\junsa\\한양대학교 이준상\\한양대학교 이준상\\1-겨울방학\\백준 풀이\\2566번 최댓값.ipynb Cell 2\u001b[0m in \u001b[0;36m<cell line: 2>\u001b[1;34m()\u001b[0m\n\u001b[0;32m      <a href='vscode-notebook-cell:/c%3A/Users/junsa/%ED%95%9C%EC%96%91%EB%8C%80%ED%95%99%EA%B5%90%20%EC%9D%B4%EC%A4%80%EC%83%81/%ED%95%9C%EC%96%91%EB%8C%80%ED%95%99%EA%B5%90%20%EC%9D%B4%EC%A4%80%EC%83%81/1-%EA%B2%A8%EC%9A%B8%EB%B0%A9%ED%95%99/%EB%B0%B1%EC%A4%80%20%ED%92%80%EC%9D%B4/2566%EB%B2%88%20%EC%B5%9C%EB%8C%93%EA%B0%92.ipynb#W5sZmlsZQ%3D%3D?line=0'>1</a>\u001b[0m B_max \u001b[39m=\u001b[39m \u001b[39mmax\u001b[39m(B) \n\u001b[1;32m----> <a href='vscode-notebook-cell:/c%3A/Users/junsa/%ED%95%9C%EC%96%91%EB%8C%80%ED%95%99%EA%B5%90%20%EC%9D%B4%EC%A4%80%EC%83%81/%ED%95%9C%EC%96%91%EB%8C%80%ED%95%99%EA%B5%90%20%EC%9D%B4%EC%A4%80%EC%83%81/1-%EA%B2%A8%EC%9A%B8%EB%B0%A9%ED%95%99/%EB%B0%B1%EC%A4%80%20%ED%92%80%EC%9D%B4/2566%EB%B2%88%20%EC%B5%9C%EB%8C%93%EA%B0%92.ipynb#W5sZmlsZQ%3D%3D?line=1'>2</a>\u001b[0m \u001b[39mlist\u001b[39;49m\u001b[39m.\u001b[39;49mindex(B_max)\n",
      "\u001b[1;31mTypeError\u001b[0m: descriptor 'index' for 'list' objects doesn't apply to a 'int' object"
     ]
    }
   ],
   "source": [
    "B_max = max(B) \n",
    "list.index(B_max)"
   ]
  },
  {
   "cell_type": "code",
   "execution_count": 4,
   "metadata": {},
   "outputs": [
    {
     "data": {
      "text/plain": [
       "9"
      ]
     },
     "execution_count": 4,
     "metadata": {},
     "output_type": "execute_result"
    }
   ],
   "source": [
    "max(A[0])"
   ]
  },
  {
   "cell_type": "code",
   "execution_count": null,
   "metadata": {},
   "outputs": [],
   "source": [
    "G = A[0][0]\n",
    "for row in range(9):\n",
    "    for col in range(9):\n",
    "        if A[row][col] > G:\n",
    "            G = A[row][col]\n",
    "            G_row = row\n",
    "            G_col = col\n",
    "print(G)\n",
    "print(G_row+1, G_col+1)\n"
   ]
  }
 ],
 "metadata": {
  "kernelspec": {
   "display_name": "Python 3",
   "language": "python",
   "name": "python3"
  },
  "language_info": {
   "codemirror_mode": {
    "name": "ipython",
    "version": 3
   },
   "file_extension": ".py",
   "mimetype": "text/x-python",
   "name": "python",
   "nbconvert_exporter": "python",
   "pygments_lexer": "ipython3",
   "version": "3.10.2"
  },
  "orig_nbformat": 4,
  "vscode": {
   "interpreter": {
    "hash": "6012e4145309480b7469bc34b19683594d2efa0f02e1a1ca2e35b3f6a1ba1fb9"
   }
  }
 },
 "nbformat": 4,
 "nbformat_minor": 2
}
