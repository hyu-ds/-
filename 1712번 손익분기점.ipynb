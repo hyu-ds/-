{
 "cells": [
  {
   "cell_type": "code",
   "execution_count": 1,
   "metadata": {},
   "outputs": [
    {
     "name": "stdout",
     "output_type": "stream",
     "text": [
      "2\n"
     ]
    }
   ],
   "source": [
    "import sys\n",
    "A, B, C = input().split()\n",
    "A = int(A)\n",
    "B = int(B)\n",
    "C = int(C)\n",
    "if C <= B :\n",
    "    print(-1)\n",
    "    sys.exit()\n",
    "k = A / (C-B)\n",
    "if type(k) == int:\n",
    "    k = k+1 \n",
    "if type(k) == float:\n",
    "    k = int(k) + 1\n",
    "print(k)\n",
    "\n"
   ]
  }
 ],
 "metadata": {
  "kernelspec": {
   "display_name": "Python 3",
   "language": "python",
   "name": "python3"
  },
  "language_info": {
   "codemirror_mode": {
    "name": "ipython",
    "version": 3
   },
   "file_extension": ".py",
   "mimetype": "text/x-python",
   "name": "python",
   "nbconvert_exporter": "python",
   "pygments_lexer": "ipython3",
   "version": "3.10.2"
  },
  "orig_nbformat": 4,
  "vscode": {
   "interpreter": {
    "hash": "6012e4145309480b7469bc34b19683594d2efa0f02e1a1ca2e35b3f6a1ba1fb9"
   }
  }
 },
 "nbformat": 4,
 "nbformat_minor": 2
}
