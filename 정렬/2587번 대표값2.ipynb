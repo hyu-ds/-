{
 "cells": [
  {
   "cell_type": "code",
   "execution_count": 1,
   "metadata": {},
   "outputs": [
    {
     "name": "stdout",
     "output_type": "stream",
     "text": [
      "34.0\n",
      "30\n"
     ]
    }
   ],
   "source": [
    "A =[]\n",
    "for i in range(5):\n",
    "    num = int(input())\n",
    "    A.append(num)\n",
    "A.sort()\n",
    "print(int(sum(A)/len(A)))\n",
    "print(A[2])"
   ]
  }
 ],
 "metadata": {
  "kernelspec": {
   "display_name": "base",
   "language": "python",
   "name": "python3"
  },
  "language_info": {
   "codemirror_mode": {
    "name": "ipython",
    "version": 3
   },
   "file_extension": ".py",
   "mimetype": "text/x-python",
   "name": "python",
   "nbconvert_exporter": "python",
   "pygments_lexer": "ipython3",
   "version": "3.9.7 (default, Sep 16 2021, 16:59:28) [MSC v.1916 64 bit (AMD64)]"
  },
  "orig_nbformat": 4,
  "vscode": {
   "interpreter": {
    "hash": "09c962df69b3a791a99d77972432291ba0600d0ce12be3b2264194eab0977144"
   }
  }
 },
 "nbformat": 4,
 "nbformat_minor": 2
}
